{
 "cells": [
  {
   "cell_type": "markdown",
   "id": "ef070ad1",
   "metadata": {},
   "source": [
    "# Analyzing a Multiline String and Generating the Unique Word Count\n",
    "\n",
    "This notebook walks through the following steps:\n",
    "\n",
    "1. Assign a multiline text to a Python variable.\n",
    "2. Determine its type and length.\n",
    "3. Remove newlines and punctuation.\n",
    "4. Split the text into words.\n",
    "5. Extract unique words.\n",
    "6. Count word occurrences.\n",
    "7. Display the top 25 most frequent words (case-insensitive)."
   ]
  },
  {
   "cell_type": "markdown",
   "id": "6e3b8aa4",
   "metadata": {},
   "source": [
    "## 1. Assign the Multiline Text"
   ]
  },
  {
   "cell_type": "code",
   "execution_count": 12,
   "id": "e0bad86d",
   "metadata": {},
   "outputs": [],
   "source": [
    "multiline_text = \"\"\"Human evolution is the lengthy process of change by which people originated from apelike ancestors. Scientific evidence shows that the physical and behavioral traits shared by all people originated from apelike ancestors and evolved over a period of approximately six million years.\n",
    "One of the earliest defining human traits, bipedalism -- the ability to walk on two legs -- evolved over 4 million years ago. Other important human characteristics -- such as a large and complex brain, the ability to make and use tools, and the capacity for language -- developed more recently. Many advanced traits -- including complex symbolic expression, art, and elaborate cultural diversity -- emerged mainly during the past 100,000 years.\n",
    "Humans are primates. Physical and genetic similarities show that the modern human species, ÿHomo sapiens, has a very close relationship to another group of primate species, the apes. Humans and the great apes (large apes) of Africa -- chimpanzees (including bonobos, or so-called ?pygmy chimpanzees?) and gorillas -- share a common ancestor that lived between 8 and 6 million years ago. Humans first evolved in Africa, and much of human evolution occurred on that continent. The fossils of early humans who lived between 6 and 2 million years ago come entirely from Africa.\n",
    "Most scientists currently recognize some 15 to 20 different species of early humans. Scientists do not all agree, however, about how these species are related or which ones simply died out. Many early human species -- certainly the majority of them ? left no living descendants. Scientists also debate over how to identify and classify particular species of early humans, and about what factors influenced the evolution and extinction of each species.\n",
    "Early humans first migrated out of Africa into Asia probably between 2 million and 1.8 million years ago. They entered Europe somewhat later, between 1.5 million and 1 million years. Species of modern humans populated many parts of the world much later. For instance, people first came to Australia probably within the past 60,000 years and to the Americas within the past 30,000 years or so. The beginnings of agriculture and the rise of the first civilizations occurred within the past 12,000 years.\"\"\"\n"
   ]
  },
  {
   "cell_type": "markdown",
   "id": "9f333909",
   "metadata": {},
   "source": [
    "## 2. Type and Length of the Text"
   ]
  },
  {
   "cell_type": "code",
   "execution_count": 13,
   "id": "ec66bb5d",
   "metadata": {},
   "outputs": [
    {
     "name": "stdout",
     "output_type": "stream",
     "text": [
      "Type: <class 'str'>\n",
      "Length: 2255\n"
     ]
    }
   ],
   "source": [
    "print('Type:', type(multiline_text))\n",
    "print('Length:', len(multiline_text))"
   ]
  },
  {
   "cell_type": "markdown",
   "id": "a89f7d66",
   "metadata": {},
   "source": [
    "## 3. Remove Newlines and Punctuation"
   ]
  },
  {
   "cell_type": "code",
   "execution_count": 14,
   "id": "340dfe25",
   "metadata": {},
   "outputs": [
    {
     "name": "stdout",
     "output_type": "stream",
     "text": [
      "Human evolution is the lengthy process of change by which people originated from apelike ancestors Scientific evidence shows that the physical and behavioral traits shared by all people originated from apelike ancestors and evolved over a period of approximately six million years One of the earliest defining human traits bipedalism  the ability to walk on two legs  evolved over 4 million years ago Other important human characteristics  such as a large and complex brain the ability to make and use tools and the capacity for language  developed more recently Many advanced traits  including complex symbolic expression art and elaborate cultural diversity  emerged mainly during the past 100000 years Humans are primates Physical and genetic similarities show that the modern human species ÿHomo sapiens has a very close relationship to another group of primate species the apes Humans and the great apes large apes of Africa  chimpanzees including bonobos or socalled pygmy chimpanzees and gorillas  share a common ancestor that lived between 8 and 6 million years ago Humans first evolved in Africa and much of human evolution occurred on that continent The fossils of early humans who lived between 6 and 2 million years ago come entirely from Africa Most scientists currently recognize some 15 to 20 different species of early humans Scientists do not all agree however about how these species are related or which ones simply died out Many early human species  certainly the majority of them  left no living descendants Scientists also debate over how to identify and classify particular species of early humans and about what factors influenced the evolution and extinction of each species Early humans first migrated out of Africa into Asia probably between 2 million and 18 million years ago They entered Europe somewhat later between 15 million and 1 million years Species of modern humans populated many parts of the world much later For instance people first came to Australia probably within the past 60000 years and to the Americas within the past 30000 years or so The beginnings of agriculture and the rise of the first civilizations occurred within the past 12000 years\n"
     ]
    }
   ],
   "source": [
    "\n",
    "cleaned_text = multiline_text.replace('\\n', ' ').replace('\\r', ' ')\n",
    "\n",
    "\n",
    "import string\n",
    "for symbol in string.punctuation:\n",
    "    cleaned_text = cleaned_text.replace(symbol, '')\n",
    "\n",
    "\n",
    "print(cleaned_text)\n"
   ]
  },
  {
   "cell_type": "markdown",
   "id": "0712bc38",
   "metadata": {},
   "source": [
    "## 4. Split into Words"
   ]
  },
  {
   "cell_type": "code",
   "execution_count": 16,
   "id": "bb6294d1",
   "metadata": {},
   "outputs": [
    {
     "name": "stdout",
     "output_type": "stream",
     "text": [
      "Total words: 352\n"
     ]
    }
   ],
   "source": [
    "words = cleaned_text.split()\n",
    "print('Total words:', len(words))"
   ]
  },
  {
   "cell_type": "markdown",
   "id": "3fa7eca1",
   "metadata": {},
   "source": [
    "## 5. Unique Words"
   ]
  },
  {
   "cell_type": "code",
   "execution_count": 17,
   "id": "6e34c5ea",
   "metadata": {},
   "outputs": [
    {
     "name": "stdout",
     "output_type": "stream",
     "text": [
      "Unique words count: 193\n"
     ]
    }
   ],
   "source": [
    "unique_words = list(set(words))\n",
    "print('Unique words count:', len(unique_words))"
   ]
  },
  {
   "cell_type": "markdown",
   "id": "aeb0740e",
   "metadata": {},
   "source": [
    "## 6. Count Word Occurrences (Case-Insensitive)"
   ]
  },
  {
   "cell_type": "code",
   "execution_count": 18,
   "id": "3bade0c3",
   "metadata": {},
   "outputs": [
    {
     "name": "stdout",
     "output_type": "stream",
     "text": [
      "Word counts (case‑insensitive):\n",
      "such: 1\n",
      "6: 2\n",
      "period: 1\n",
      "important: 1\n",
      "other: 1\n",
      "asia: 1\n",
      "agriculture: 1\n",
      "8: 1\n",
      "sapiens: 1\n",
      "over: 3\n",
      "defining: 1\n",
      "legs: 1\n",
      "how: 2\n",
      "great: 1\n",
      "art: 1\n",
      "came: 1\n",
      "died: 1\n",
      "walk: 1\n",
      "for: 2\n",
      "primates: 1\n",
      "first: 4\n",
      "related: 1\n",
      "18: 1\n",
      "ones: 1\n",
      "traits: 3\n",
      "1: 1\n",
      "close: 1\n",
      "apes: 3\n",
      "early: 5\n",
      "60000: 1\n",
      "symbolic: 1\n",
      "out: 2\n",
      "of: 16\n",
      "later: 2\n",
      "from: 3\n",
      "modern: 2\n",
      "these: 1\n",
      "so: 1\n",
      "species: 8\n",
      "majority: 1\n",
      "behavioral: 1\n",
      "socalled: 1\n",
      "primate: 1\n",
      "ago: 4\n",
      "lived: 2\n",
      "shared: 1\n",
      "scientific: 1\n",
      "on: 2\n",
      "elaborate: 1\n",
      "descendants: 1\n",
      "factors: 1\n",
      "entered: 1\n",
      "australia: 1\n",
      "by: 2\n",
      "most: 1\n",
      "also: 1\n",
      "europe: 1\n",
      "them: 1\n",
      "parts: 1\n",
      "within: 3\n",
      "20: 1\n",
      "including: 2\n",
      "capacity: 1\n",
      "migrated: 1\n",
      "identify: 1\n",
      "is: 1\n",
      "they: 1\n",
      "no: 1\n",
      "classify: 1\n",
      "years: 10\n",
      "probably: 2\n",
      "come: 1\n",
      "influenced: 1\n",
      "mainly: 1\n",
      "debate: 1\n",
      "group: 1\n",
      "instance: 1\n",
      "make: 1\n",
      "show: 1\n",
      "recognize: 1\n",
      "world: 1\n",
      "populated: 1\n",
      "evolution: 3\n",
      "americas: 1\n",
      "4: 1\n",
      "left: 1\n",
      "developed: 1\n",
      "evidence: 1\n",
      "diversity: 1\n",
      "as: 1\n",
      "entirely: 1\n",
      "to: 7\n",
      "in: 1\n",
      "humans: 8\n",
      "much: 2\n",
      "chimpanzees: 2\n",
      "recently: 1\n",
      "earliest: 1\n",
      "fossils: 1\n",
      "particular: 1\n",
      "africa: 4\n",
      "into: 1\n",
      "apelike: 2\n",
      "occurred: 2\n",
      "two: 1\n",
      "common: 1\n",
      "the: 21\n",
      "extinction: 1\n",
      "simply: 1\n",
      "complex: 2\n",
      "certainly: 1\n",
      "million: 8\n",
      "rise: 1\n",
      "language: 1\n",
      "about: 2\n",
      "15: 2\n",
      "what: 1\n",
      "genetic: 1\n",
      "who: 1\n",
      "another: 1\n",
      "currently: 1\n",
      "or: 3\n",
      "bonobos: 1\n",
      "ancestor: 1\n",
      "process: 1\n",
      "gorillas: 1\n",
      "more: 1\n",
      "lengthy: 1\n",
      "similarities: 1\n",
      "100000: 1\n",
      "which: 2\n",
      "continent: 1\n",
      "six: 1\n",
      "scientists: 3\n",
      "all: 2\n",
      "shows: 1\n",
      "approximately: 1\n",
      "2: 2\n",
      "during: 1\n",
      "beginnings: 1\n",
      "human: 6\n",
      "use: 1\n",
      "has: 1\n",
      "a: 4\n",
      "relationship: 1\n",
      "bipedalism: 1\n",
      "many: 3\n",
      "each: 1\n",
      "people: 3\n",
      "change: 1\n",
      "living: 1\n",
      "30000: 1\n",
      "characteristics: 1\n",
      "share: 1\n",
      "physical: 2\n",
      "however: 1\n",
      "civilizations: 1\n",
      "not: 1\n",
      "ancestors: 2\n",
      "advanced: 1\n",
      "between: 4\n",
      "somewhat: 1\n",
      "ability: 2\n",
      "brain: 1\n",
      "ÿhomo: 1\n",
      "tools: 1\n",
      "past: 4\n",
      "emerged: 1\n",
      "one: 1\n",
      "cultural: 1\n",
      "agree: 1\n",
      "expression: 1\n",
      "and: 19\n",
      "large: 2\n",
      "some: 1\n",
      "do: 1\n",
      "originated: 2\n",
      "that: 4\n",
      "are: 2\n",
      "different: 1\n",
      "evolved: 3\n",
      "pygmy: 1\n",
      "12000: 1\n",
      "very: 1\n"
     ]
    }
   ],
   "source": [
    "words_lower = [w.lower() for w in words]\n",
    "\n",
    "unique_words_lower = list(set(words_lower))\n",
    "\n",
    "\n",
    "word_counts = { word: words_lower.count(word) for word in unique_words_lower }\n",
    "\n",
    "print('Word counts (case‑insensitive):')\n",
    "for word, cnt in word_counts.items():\n",
    "    print(f\"{word}: {cnt}\")\n"
   ]
  },
  {
   "cell_type": "markdown",
   "id": "2f0077c0",
   "metadata": {},
   "source": [
    "## 7. Top 25 Most Frequent Words"
   ]
  },
  {
   "cell_type": "code",
   "execution_count": 19,
   "id": "0cb90e6b",
   "metadata": {},
   "outputs": [
    {
     "name": "stdout",
     "output_type": "stream",
     "text": [
      "the: 21\n",
      "and: 19\n",
      "of: 16\n",
      "years: 10\n",
      "species: 8\n",
      "humans: 8\n",
      "million: 8\n",
      "to: 7\n",
      "human: 6\n",
      "early: 5\n",
      "first: 4\n",
      "ago: 4\n",
      "africa: 4\n",
      "a: 4\n",
      "between: 4\n",
      "past: 4\n",
      "that: 4\n",
      "over: 3\n",
      "traits: 3\n",
      "apes: 3\n",
      "from: 3\n",
      "within: 3\n",
      "evolution: 3\n",
      "or: 3\n",
      "scientists: 3\n"
     ]
    }
   ],
   "source": [
    "sorted_word_counts = sorted(word_counts.items(), key=lambda x: x[1], reverse=True)\n",
    "\n",
    "\n",
    "top_25 = sorted_word_counts[:25]\n",
    "\n",
    "for word, count in top_25:\n",
    "    print(f\"{word}: {count}\")"
   ]
  }
 ],
 "metadata": {
  "kernelspec": {
   "display_name": "Python 3",
   "language": "python",
   "name": "python3"
  },
  "language_info": {
   "codemirror_mode": {
    "name": "ipython",
    "version": 3
   },
   "file_extension": ".py",
   "mimetype": "text/x-python",
   "name": "python",
   "nbconvert_exporter": "python",
   "pygments_lexer": "ipython3",
   "version": "3.11.3"
  }
 },
 "nbformat": 4,
 "nbformat_minor": 5
}
